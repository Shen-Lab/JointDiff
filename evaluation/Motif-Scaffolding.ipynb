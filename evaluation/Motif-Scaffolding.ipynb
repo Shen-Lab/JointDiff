{
 "cells": [
  {
   "cell_type": "code",
   "execution_count": 1,
   "id": "2aa76b86-270d-4c62-a4f0-7b1a37cc5f2a",
   "metadata": {},
   "outputs": [
    {
     "name": "stderr",
     "output_type": "stream",
     "text": [
      "/scratch/user/shaowen1994/.conda/envs/diffab/lib/python3.8/site-packages/Bio/pairwise2.py:278: BiopythonDeprecationWarning: Bio.pairwise2 has been deprecated, and we intend to remove it in a future release of Biopython. As an alternative, please consider using Bio.Align.PairwiseAligner as a replacement, and contact the Biopython developers if you still need the Bio.pairwise2 module.\n",
      "  warnings.warn(\n"
     ]
    }
   ],
   "source": [
    "import os \n",
    "import pickle\n",
    "from tqdm.auto import tqdm\n",
    "import math\n",
    "import random\n",
    "import numpy as np\n",
    "import torch\n",
    "import matplotlib.pyplot as plt\n",
    "\n",
    "from utils_eval import dict_load, dict_save"
   ]
  },
  {
   "cell_type": "code",
   "execution_count": 12,
   "id": "21e0b6a3-8716-4a5b-8177-07068399868f",
   "metadata": {},
   "outputs": [],
   "source": [
    "def ms_stat(v_dict, threshold = 2.0, idx = -2):\n",
    "    tms_list = []\n",
    "    rmsd_list = []\n",
    "\n",
    "    stat_dict = {}\n",
    "    \n",
    "    for name in v_dict:\n",
    "        target = '_'.join(name.split('_')[:idx])\n",
    "        att = name.split('_')[-1]\n",
    "        \n",
    "        if target not in stat_dict:\n",
    "            stat_dict[target] = [0, 0]\n",
    "        stat_dict[target][0] += 1\n",
    "\n",
    "        rmsd_min = float('inf')\n",
    "        for pred in v_dict[name]:\n",
    "            tms, rmsd = v_dict[name][pred]\n",
    "            tms_list.append(tms)\n",
    "            rmsd_list.append(rmsd)\n",
    "            rmsd_min = min(rmsd_min, rmsd)\n",
    "\n",
    "        if rmsd_min <= threshold:\n",
    "            stat_dict[target][1] += 1\n",
    "\n",
    "    ### statistics\n",
    "    print('tmscore = %f; rmsd = %f' % (np.mean(tms_list), np.mean(rmsd_list)))\n",
    "    suc_num = 0\n",
    "    suc_ratio = []\n",
    "    for target in stat_dict:\n",
    "        sr = stat_dict[target][1] / stat_dict[target][0]\n",
    "        suc_ratio.append(sr)\n",
    "        if stat_dict[target][1] > 0:\n",
    "            suc_num += 1\n",
    "\n",
    "    print('%d successful cases out of %d. suc_ratio=%f' % (suc_num, len(stat_dict), np.mean(suc_ratio)))"
   ]
  },
  {
   "cell_type": "markdown",
   "id": "33b619db-043d-42a9-ac62-aedb1dff6b99",
   "metadata": {},
   "source": [
    "## Baselines"
   ]
  },
  {
   "cell_type": "code",
   "execution_count": 9,
   "id": "f56f9abd-b2e1-4491-ba93-a97d54175807",
   "metadata": {},
   "outputs": [],
   "source": [
    "rfdiff_dict = dict_load('../../Results/Baseline_motif/RFdiffusion/designability_esmfold_TMscore_dict.pkl')"
   ]
  },
  {
   "cell_type": "code",
   "execution_count": 13,
   "id": "6e00f0b2-358c-43a1-bd68-c668b141c3ed",
   "metadata": {},
   "outputs": [
    {
     "name": "stdout",
     "output_type": "stream",
     "text": [
      "tmscore = 0.792488; rmsd = 1.496438\n",
      "20 successful cases out of 20. suc_ratio=0.895500\n"
     ]
    }
   ],
   "source": [
    "ms_stat(rfdiff_dict, threshold = 2.0, idx = -1)"
   ]
  },
  {
   "cell_type": "markdown",
   "id": "61e82384-286e-49d5-9617-b5bb94a9c38f",
   "metadata": {},
   "source": [
    "## Distilled Model"
   ]
  },
  {
   "cell_type": "code",
   "execution_count": 2,
   "id": "bd5ba5d8-ee58-4e04-a735-f258abdece5c",
   "metadata": {},
   "outputs": [],
   "source": [
    "PATH = '../../Results/jointDiff-distill_motif/'"
   ]
  },
  {
   "cell_type": "code",
   "execution_count": 4,
   "id": "aafb7f36-56b6-428f-8783-20945876a688",
   "metadata": {},
   "outputs": [
    {
     "name": "stdout",
     "output_type": "stream",
     "text": [
      "sc_merge_cold_rm-conse\n",
      "merge_cold_rm-conse\n",
      "sc_merge_cold_rm\n",
      "nature_warm\n",
      "gen_warm\n",
      "merge_cold\n",
      "merge_warm\n",
      "merge_cold_rm\n",
      "sc_merge_warm_rm\n",
      "merge_warm_rm-conse\n",
      "gen_cold\n",
      "merge_warm_rm\n",
      "sc_merge_warm_rm-conse\n",
      "nature_cold\n"
     ]
    }
   ],
   "source": [
    "val_dict = {}\n",
    "\n",
    "for model in os.listdir(PATH):\n",
    "    dict_path = os.path.join(PATH, model, 'designability_esmfold_TMscore_dict.pkl')\n",
    "\n",
    "    if not os.path.exists(dict_path):\n",
    "        continue\n",
    "\n",
    "    dset = model.split('distill-')[1].split('_')[0]\n",
    "    kind = model.split('_')[-1]\n",
    "    name = '%s_%s' % (dset, kind)\n",
    "    if 'rm' in model.split('_')[-2]:\n",
    "        name = '%s_%s' % (name, model.split('_')[-2])\n",
    "    if '_sc_' in model:\n",
    "        name = '%s_%s' % ('sc', name)\n",
    "\n",
    "    print(name)\n",
    "    val_dict[name] = dict_load(dict_path)"
   ]
  },
  {
   "cell_type": "code",
   "execution_count": 8,
   "id": "a7d81232-51eb-4584-bb63-120ca590904c",
   "metadata": {},
   "outputs": [
    {
     "name": "stdout",
     "output_type": "stream",
     "text": [
      "sc_merge_cold_rm-conse\n",
      "tmscore = 0.407787; rmsd = 3.133257\n",
      "23 successful cases out of 24. suc_ratio=0.230417\n",
      "\n",
      "merge_cold_rm-conse\n",
      "tmscore = 0.417274; rmsd = 3.040197\n",
      "24 successful cases out of 24. suc_ratio=0.277917\n",
      "\n",
      "sc_merge_cold_rm\n",
      "tmscore = 0.459720; rmsd = 2.804802\n",
      "24 successful cases out of 24. suc_ratio=0.396250\n",
      "\n",
      "nature_warm\n",
      "tmscore = 0.384668; rmsd = 2.987067\n",
      "24 successful cases out of 24. suc_ratio=0.334167\n",
      "\n",
      "gen_warm\n",
      "tmscore = 0.397189; rmsd = 2.953354\n",
      "24 successful cases out of 24. suc_ratio=0.353333\n",
      "\n",
      "merge_cold\n",
      "tmscore = 0.371469; rmsd = 3.123261\n",
      "24 successful cases out of 24. suc_ratio=0.290000\n",
      "\n",
      "merge_warm\n",
      "tmscore = 0.364606; rmsd = 3.083555\n",
      "24 successful cases out of 24. suc_ratio=0.301250\n",
      "\n",
      "merge_cold_rm\n",
      "tmscore = 0.451006; rmsd = 2.927745\n",
      "23 successful cases out of 24. suc_ratio=0.326250\n",
      "\n",
      "sc_merge_warm_rm\n",
      "tmscore = 0.479490; rmsd = 2.788219\n",
      "24 successful cases out of 24. suc_ratio=0.392500\n",
      "\n",
      "merge_warm_rm-conse\n",
      "tmscore = 0.445896; rmsd = 2.972333\n",
      "23 successful cases out of 24. suc_ratio=0.304583\n",
      "\n",
      "gen_cold\n",
      "tmscore = 0.356177; rmsd = 3.174830\n",
      "22 successful cases out of 24. suc_ratio=0.297917\n",
      "\n",
      "merge_warm_rm\n",
      "tmscore = 0.482735; rmsd = 2.789550\n",
      "24 successful cases out of 24. suc_ratio=0.401667\n",
      "\n",
      "sc_merge_warm_rm-conse\n",
      "tmscore = 0.454340; rmsd = 2.912150\n",
      "23 successful cases out of 24. suc_ratio=0.355833\n",
      "\n",
      "nature_cold\n",
      "tmscore = 0.378544; rmsd = 3.159250\n",
      "23 successful cases out of 24. suc_ratio=0.238750\n",
      "\n"
     ]
    }
   ],
   "source": [
    "for name in val_dict:\n",
    "    print(name)\n",
    "    ms_stat(val_dict[name], threshold = 2.0)\n",
    "    print()"
   ]
  },
  {
   "cell_type": "code",
   "execution_count": null,
   "id": "7a2f7210-5e21-47a1-b3e9-f6765684a6d7",
   "metadata": {},
   "outputs": [],
   "source": []
  }
 ],
 "metadata": {
  "kernelspec": {
   "display_name": "diffab",
   "language": "python",
   "name": "diffab"
  },
  "language_info": {
   "codemirror_mode": {
    "name": "ipython",
    "version": 3
   },
   "file_extension": ".py",
   "mimetype": "text/x-python",
   "name": "python",
   "nbconvert_exporter": "python",
   "pygments_lexer": "ipython3",
   "version": "3.8.16"
  }
 },
 "nbformat": 4,
 "nbformat_minor": 5
}
